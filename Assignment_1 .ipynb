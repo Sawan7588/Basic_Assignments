{
 "cells": [
  {
   "cell_type": "code",
   "execution_count": null,
   "id": "e9563c50",
   "metadata": {},
   "outputs": [],
   "source": [
    "# q1. In the below elements which of them are values or an expression? eg:- values can be\n",
    "integer or string and expressions will be mathematical operators.\n",
    "\n",
    "Values\n",
    "\n",
    "\"hello\"\n",
    "6\n",
    "\n",
    "# -87.8 - is not an integer\n",
    "\n",
    "Expression\n",
    "\n",
    "*\n",
    "-\n",
    "+\n",
    "/"
   ]
  },
  {
   "cell_type": "code",
   "execution_count": null,
   "id": "1b31ecaf",
   "metadata": {},
   "outputs": [],
   "source": [
    "# q2. What is the difference between string and variable?\n",
    "\n",
    "String :- \n",
    "\n",
    "A string is simply a series of characters. Anything inside quotes is considered a string in Python,and you can use single or double quotes around your strings like this:\n",
    "\n",
    "This is a string.\"\n",
    "'This is also a string.'\n",
    "\n",
    "Variable :- \n",
    "    \n",
    "Variables are nothing but reserved memory locations to store values. This means that when you create a variable you reserve some space in memory.\n",
    "\n",
    "Based on the data type of a variable, the interpreter allocates memory and decides what can be stored in the reserved memory. Therefore, by assigning different data types to variables, you can store integers, decimals or characters in these variables.\n",
    "\n",
    "Python variables do not need explicit declaration to reserve memory space. The declaration happens automatically when you assign a value to a variable. The equal sign(=) is used to assign values to variables.\n",
    "\n",
    "Variable names can contain only letters, numbers, and underscores. They can start with a letter or an underscore, but not with a number. Spaces are not allowed in variable names, but underscores can be used to separate words in variable names.\n",
    "\n",
    "message = \"Hello Python world!\""
   ]
  },
  {
   "cell_type": "code",
   "execution_count": null,
   "id": "d6f0fe94",
   "metadata": {},
   "outputs": [],
   "source": [
    "# q3. Describe three different data types.\n",
    "\n",
    "There are 3 different types of data types in Python\n",
    "\n",
    "1. String\n",
    "2. List\n",
    "3. Dictionary\n",
    "\n",
    "String :- A string is a sequence of characters enclosed within double (“…”) or single quotes (‘…’)\n",
    "\n",
    "    Character is just a symbol. Eg: the English language has 26 alphabets as a character set.\n",
    "        \n",
    "    Strings belong to immutable data type, i.e., their value cannot be changed.\n",
    "    \n",
    "List :- Just like strings are defined as characters within the quotes. Similarly, lists are defined as values (items) within the square brackets [ ].\n",
    "    Lists are used to store multiple mutable values within a single variable\n",
    "    \n",
    "Dictionary :- Python Dictionary is an unordered collection that contains key: value pairs separated by commas inside curly brackets {key: value}."
   ]
  },
  {
   "cell_type": "code",
   "execution_count": null,
   "id": "9b14103d",
   "metadata": {},
   "outputs": [],
   "source": [
    "# q4. What is an expression made up of? What do all expressions do?\n",
    "\n",
    "An expression is a combination of operators and operands that is interpreted to produce some other value. \n",
    "In any programming language, an expression is evaluated as per the precedence of its operators. \n",
    "So that if there is more than one operator in an expression, their precedence decides which operation will be performed first\n",
    "\n"
   ]
  },
  {
   "cell_type": "code",
   "execution_count": null,
   "id": "50be8527",
   "metadata": {},
   "outputs": [],
   "source": [
    "# q5. This assignment statements, like spam = 10. What is the difference between an\n",
    "expression and a statement?\n",
    "\n",
    "The assignment statement is used to store the value into a variable. Expressions are representations of value. \n",
    "They are different from statement in the fact that statements do something while expressions are representation of value. \n",
    "\n",
    "Ex :- \n",
    "    \n",
    "    S = \"Sawan\"  # This is an assignment statement with assignment operator =\n",
    "    sum = a + b # this is an exression we are storing the value of sum\n",
    "    \n"
   ]
  },
  {
   "cell_type": "code",
   "execution_count": 1,
   "id": "73c43b5e",
   "metadata": {},
   "outputs": [
    {
     "data": {
      "text/plain": [
       "23"
      ]
     },
     "execution_count": 1,
     "metadata": {},
     "output_type": "execute_result"
    }
   ],
   "source": [
    "# q6 After running the following code, what does the variable bacon contain?\n",
    "\n",
    "bacon = 22\n",
    "bacon + 1\n",
    "\n",
    "After running above code value of bacon will still 22."
   ]
  },
  {
   "cell_type": "code",
   "execution_count": 2,
   "id": "eada89c6",
   "metadata": {},
   "outputs": [
    {
     "data": {
      "text/plain": [
       "22"
      ]
     },
     "execution_count": 2,
     "metadata": {},
     "output_type": "execute_result"
    }
   ],
   "source": [
    "bacon"
   ]
  },
  {
   "cell_type": "code",
   "execution_count": null,
   "id": "40f78431",
   "metadata": {},
   "outputs": [],
   "source": [
    "# q7. 7. What should the values of the following two terms be?\n",
    "'spam' + 'spamspam'\n",
    "'spam' * 3\n",
    "\n",
    "Both will have same value. In 'spam' + 'spamspam' + operater will concatenate both the string and will become \"spamspamspam\".\n",
    "* operator will multiply the string \"spam\" by 3 and will become \"spamspamspam\""
   ]
  },
  {
   "cell_type": "code",
   "execution_count": null,
   "id": "48dcd20f",
   "metadata": {},
   "outputs": [],
   "source": [
    "# q8. Why is eggs a valid variable name while 100 is invalid?\n",
    "\n",
    "eggs is a valid variable name while 100 is invalid\n",
    "\n",
    "Rules for Python variables:\n",
    "\n",
    "A variable name must start with a letter or the underscore character\n",
    "A variable name cannot start with a number\n",
    "A variable name can only contain alpha-numeric characters and underscores (A-z, 0-9, and _ )\n",
    "Variable names are case-sensitive (age, Age and AGE are three different variables)"
   ]
  },
  {
   "cell_type": "code",
   "execution_count": null,
   "id": "82344783",
   "metadata": {},
   "outputs": [],
   "source": [
    "# q9. What three functions can be used to get the integer, floating-point number, or string\n",
    "version of a value?\n",
    "\n",
    "1. int()\n",
    "2. float()\n",
    "3. str()"
   ]
  },
  {
   "cell_type": "code",
   "execution_count": null,
   "id": "2f7d4893",
   "metadata": {},
   "outputs": [],
   "source": [
    "# 10.Why does this expression cause an error? How can you fix it?\n",
    "'I have eaten ' + 99 + ' burritos.'\n",
    "\n",
    "This statement cause error because it concateneating int value with string. To fix this we have to convert int into string \n",
    "\n",
    "'I have eaten ' + str(99) + ' burritos.'"
   ]
  }
 ],
 "metadata": {
  "kernelspec": {
   "display_name": "Python 3 (ipykernel)",
   "language": "python",
   "name": "python3"
  },
  "language_info": {
   "codemirror_mode": {
    "name": "ipython",
    "version": 3
   },
   "file_extension": ".py",
   "mimetype": "text/x-python",
   "name": "python",
   "nbconvert_exporter": "python",
   "pygments_lexer": "ipython3",
   "version": "3.9.12"
  }
 },
 "nbformat": 4,
 "nbformat_minor": 5
}
