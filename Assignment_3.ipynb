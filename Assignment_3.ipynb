{
 "cells": [
  {
   "cell_type": "code",
   "execution_count": null,
   "id": "7f59a42a",
   "metadata": {},
   "outputs": [],
   "source": [
    "## Q.1 Why are functions advantageous to have in your programs?\n",
    "Ans:- \n",
    "A function is a block of reusable code that is used to perform a specific action. The advantages of using functions are:\n",
    "\n",
    "1.Reducing duplication of code\n",
    "2.Decomposing complex problems into simpler pieces\n",
    "3.Improving clarity of the code\n",
    "4.Reuse of code\n",
    "5.Information hiding"
   ]
  },
  {
   "cell_type": "code",
   "execution_count": null,
   "id": "359bd4ae",
   "metadata": {},
   "outputs": [],
   "source": [
    "## Q.2 When does the code in a function run: when it's specified or when it's called?\n",
    "Ans:- \n",
    "    The code in function will run when it's called"
   ]
  },
  {
   "cell_type": "code",
   "execution_count": null,
   "id": "da065572",
   "metadata": {},
   "outputs": [],
   "source": [
    "## Q.3 What statement creates a function?\n",
    "Ans :- \n",
    "    Function in Python is defined by the “def ” statement followed by the function name and parentheses ( () ) and colon\n",
    "    Ex - def fuc_1(a,b):"
   ]
  },
  {
   "cell_type": "code",
   "execution_count": null,
   "id": "0e4e6848",
   "metadata": {},
   "outputs": [],
   "source": [
    "## Q.4 What is the difference between a function and a function call?\n",
    "Ans :- \n",
    "    \n",
    "    A function is a block of code that does a particular operation and returns a result. It usually accepts inputs as parameters and returns a result. The parameters are not mandatory.\n",
    "\n",
    "E.g:\n",
    "Function add(a,b)\n",
    "return a+ b\n",
    "\n",
    "A function call is the code used to pass control to a function.\n",
    "\n",
    "E.g.:\n",
    "\n",
    "b = add(5,6)"
   ]
  },
  {
   "cell_type": "code",
   "execution_count": null,
   "id": "5eec3f40",
   "metadata": {},
   "outputs": [],
   "source": [
    "## Q.5 How many global scopes are there in a Python program? How many local scopes?\n",
    "Ans:- \n",
    "    There's only one global Python scope per program execution and can be multiple Local scopes."
   ]
  },
  {
   "cell_type": "code",
   "execution_count": null,
   "id": "b03e1847",
   "metadata": {},
   "outputs": [],
   "source": [
    "## Q.6 What happens to variables in a local scope when the function call returns?\n",
    "Ans:- \n",
    "    A local variable becomes undefined after the function call completes"
   ]
  },
  {
   "cell_type": "code",
   "execution_count": null,
   "id": "12041d1d",
   "metadata": {},
   "outputs": [],
   "source": [
    "## Q.7 What is the concept of a return value? Is it possible to have a return value in an expression?\n",
    "Ans :- \n",
    "    \n",
    "    a function takes arguments (if any), performs some operations, and returns a value (or object). The value that a function returns to the caller is generally known as the function’s return value\n",
    "     we can return multiple values from a function."
   ]
  },
  {
   "cell_type": "code",
   "execution_count": null,
   "id": "7bc4951f",
   "metadata": {},
   "outputs": [],
   "source": [
    "## Q.8 If a function does not have a return statement, what is the return value of a call to that function?\n",
    "Ans :- \n",
    "    If a function doesn't specify a return value, it returns None."
   ]
  },
  {
   "cell_type": "code",
   "execution_count": null,
   "id": "9482c509",
   "metadata": {},
   "outputs": [],
   "source": [
    "## Q.9 How do you make a function variable refer to the global variable?\n",
    "Ans :- \n",
    "    \n",
    "    1. Create a variable outside of a function, and use it inside the function\n",
    "    2. To create a global variable inside a function, you can use the global keyword."
   ]
  },
  {
   "cell_type": "code",
   "execution_count": null,
   "id": "b7eddf60",
   "metadata": {},
   "outputs": [],
   "source": [
    "## Q.10 What is the data type of None?\n",
    "Ans :-\n",
    "    \n",
    "    None is used to define a null value. It is not the same as an empty string, False, or a zero. It is a data type of the class NoneType object."
   ]
  },
  {
   "cell_type": "code",
   "execution_count": null,
   "id": "679a0540",
   "metadata": {},
   "outputs": [],
   "source": [
    "## Q.11 What does the sentence import areallyourpetsnamederic do?\n",
    "Ans :- \n",
    "    This sentence imports the module “areallyourpetsnamederic“"
   ]
  },
  {
   "cell_type": "code",
   "execution_count": null,
   "id": "1f0a20bd",
   "metadata": {},
   "outputs": [],
   "source": [
    "## Q.12 If you had a bacon() feature in a spam module, what would you call it after importing spam?\n",
    "Ans :- \n",
    "    \n",
    "   by using spam.bacon()"
   ]
  },
  {
   "cell_type": "code",
   "execution_count": null,
   "id": "6cf857fa",
   "metadata": {},
   "outputs": [],
   "source": [
    "## Q.13 What can you do to save a programme from crashing if it encounters an error?\n",
    "Ans :-\n",
    "    \n",
    "    error handling can be used to notify the user of why the error occurred and gracefully exit the process that caused the error"
   ]
  },
  {
   "cell_type": "code",
   "execution_count": null,
   "id": "a26d448b",
   "metadata": {},
   "outputs": [],
   "source": [
    "## Q.14 What is the purpose of the try clause? What is the purpose of the except clause?\n",
    "Ans :- \n",
    "    \n",
    "    The try block is used to check some code for errors i.e the code inside the try block will execute when there is no error in the program. Whereas the code inside the except block will execute whenever the program encounters some error in the preceding try block."
   ]
  }
 ],
 "metadata": {
  "kernelspec": {
   "display_name": "Python 3 (ipykernel)",
   "language": "python",
   "name": "python3"
  },
  "language_info": {
   "codemirror_mode": {
    "name": "ipython",
    "version": 3
   },
   "file_extension": ".py",
   "mimetype": "text/x-python",
   "name": "python",
   "nbconvert_exporter": "python",
   "pygments_lexer": "ipython3",
   "version": "3.9.12"
  }
 },
 "nbformat": 4,
 "nbformat_minor": 5
}
