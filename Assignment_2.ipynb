{
 "cells": [
  {
   "cell_type": "code",
   "execution_count": null,
   "id": "c8961a08",
   "metadata": {},
   "outputs": [],
   "source": [
    "## Q1.What are the two values of the Boolean data type? How do you write them?\n",
    "\n",
    "Ans:- Two values of Boolean data types are True and False. We always write them as first character capital"
   ]
  },
  {
   "cell_type": "code",
   "execution_count": null,
   "id": "9ac7d1e5",
   "metadata": {},
   "outputs": [],
   "source": [
    "## Q2. What are the three different types of Boolean operators?\n",
    "\n",
    "Ans :- Three type of Boolean operators are\n",
    "    \n",
    "    AND\n",
    "    OR\n",
    "    NOT"
   ]
  },
  {
   "cell_type": "code",
   "execution_count": null,
   "id": "210bdd13",
   "metadata": {},
   "outputs": [],
   "source": [
    "## Q3. Make a list of each Boolean operator&#39;s truth tables (i.e. every possible combination of Boolean\n",
    "values for the operator and what it evaluate ).\n",
    "\n",
    "Ans :- AND operator    \n",
    "    \n",
    " A       B      A and B\n",
    "True\tTrue\tTrue\n",
    "False\tTrue\tFalse\n",
    "True\tFalse\tFalse\n",
    "False\tFalse\tFalse\n",
    "\n",
    "OR operator \n",
    "\n",
    " A       B     A or B\n",
    "True\tTrue\tTrue\n",
    "False\tTrue\tTrue\n",
    "True\tFalse\tTrue\n",
    "False\tFalse\tFalse"
   ]
  },
  {
   "cell_type": "code",
   "execution_count": null,
   "id": "134d3660",
   "metadata": {},
   "outputs": [],
   "source": [
    "## Q.4. What are the values of the following expressions?\n",
    "\n",
    "(5>4) and (3 == 5)\n",
    "not (5 >4)\n",
    "(5 > 4) or (3 == 5)\n",
    "not ((5 > 4) or (3 == 5))\n",
    "(True and True) and (True == False)\n",
    "(not False) or (not True)\n",
    "\n",
    "Ans :-\n",
    "    \n",
    "    (5>4) and (3 == 5) Value will be  False\n",
    "    not (5 >4) Value will be False\n",
    "    (5 > 4) or (3 == 5) Value will be True\n",
    "    not ((5 > 4) or (3 == 5)) Value will be  False\n",
    "    (True and True) and (True == False) value will be False\n",
    "    \n",
    "    "
   ]
  },
  {
   "cell_type": "code",
   "execution_count": null,
   "id": "4895b2f0",
   "metadata": {},
   "outputs": [],
   "source": [
    "## Q5 What are the six comparison operators?\n",
    "\n",
    "Comparison operators are used to compare two values:\n",
    "\n",
    "Operator         Name                        Example\n",
    "==               Equal                        x == y\n",
    "!=               Not equal                    x != y\n",
    ">                Greater than                 x > y\n",
    "<                Less than                    x < y\n",
    ">=               Greater than or equal to     x >= y\n",
    "<=               Less than or equal to        x <= y"
   ]
  },
  {
   "cell_type": "code",
   "execution_count": null,
   "id": "22e001d0",
   "metadata": {},
   "outputs": [],
   "source": [
    "## Q.6 How do you tell the difference between the equal to and assignment operators?Describe a\n",
    "condition and when you would use one.\n",
    "\n",
    "The “=” is an assignment operator is used to assign the value on the right to the variable on the left.\n",
    "\n",
    "Ex:- a = 10\n",
    "    \n",
    "The ‘==’ operator checks whether the two given operands are equal or not. If so, it returns true. Otherwise it returns false.\n",
    "\n",
    "5==5\n",
    "\n",
    "This will return True."
   ]
  },
  {
   "cell_type": "code",
   "execution_count": null,
   "id": "ec796c63",
   "metadata": {},
   "outputs": [],
   "source": [
    "## Q.7 7. Identify the three blocks in this code:\n",
    "\n",
    "spam = 0\n",
    "if spam == 10:\n",
    "    print(\"eggs\")\n",
    "if spam > 5:\n",
    "    print(\"bacon\")\n",
    "else :\n",
    "    print(\"ham\")\n",
    "    print(\"spam\")\n",
    "    print(\"spam\")\n",
    "    \n",
    "    \n",
    "Ans :- \n",
    "    \n",
    "    spam = 0\n",
    "1st block if spam == 10:\n",
    "    print(\"eggs\")\n",
    "2nd bloack if spam > 5:\n",
    "    print(\"bacon\")\n",
    "3rd bloack else :\n",
    "    print(\"ham\")\n",
    "    print(\"spam\")\n",
    "    print(\"spam\")\n",
    "    "
   ]
  },
  {
   "cell_type": "code",
   "execution_count": 5,
   "id": "552c1512",
   "metadata": {},
   "outputs": [
    {
     "name": "stdout",
     "output_type": "stream",
     "text": [
      "hello\n",
      "Howdy\n",
      "Greetings!\n"
     ]
    }
   ],
   "source": [
    "## Q.8. Write code that prints Hello if 1 is stored in spam, prints Howdy if 2 is stored in spam, and prints\n",
    "#Greetings! if anything else is stored in spam.\n",
    "\n",
    "#Ans:-\n",
    "    \n",
    "def spam(n):\n",
    "    if n == 1:\n",
    "        print(\"hello\")\n",
    "    elif n == 2:\n",
    "        print(\"Howdy\")\n",
    "    else:\n",
    "        print(\"Greetings!\")\n",
    "\n",
    "spam(1)\n",
    "spam(2)\n",
    "spam(\"anything\")"
   ]
  },
  {
   "cell_type": "code",
   "execution_count": null,
   "id": "61ef784f",
   "metadata": {},
   "outputs": [],
   "source": [
    "## Q.9 If your programme is stuck in an endless loop, what keys you’ll press?\n",
    "\n",
    "Ans:-  We need to restart the Kernal"
   ]
  },
  {
   "cell_type": "code",
   "execution_count": null,
   "id": "67f3c433",
   "metadata": {},
   "outputs": [],
   "source": [
    "## Q.10 How can you tell the difference between break and continue?\n",
    "\n",
    "Ans :- \n",
    "    \n",
    "    break :- \n",
    "        \n",
    "       1.  It eliminates the execution of remaining iteration of loop\n",
    "       2. ‘break’ will resume control of program to the end of loop enclosing that ‘break’.\n",
    "       3. It early terminates the loop\n",
    "       4. The ‘break ‘stop the continuation of the loop.\n",
    "       5. It used with the ‘switch’, ‘label’\n",
    "    \n",
    "    continue :- \n",
    "        \n",
    "        1. It will terminate only the current iteration of loop.\n",
    "        2. The ‘continue’ will resume the control of the program to next iteration of that loop enclosing ‘continue'.\n",
    "        3. It causes the early execution of the next iteration.\n",
    "        4. The ‘continue’ does not stop the continuation of loop and it stops the current.\n",
    "        5. Cannot be executed with switch and the labels.\n",
    "        \n",
    "    \n",
    "    "
   ]
  },
  {
   "cell_type": "code",
   "execution_count": null,
   "id": "1e9cf445",
   "metadata": {},
   "outputs": [],
   "source": [
    "## Q11. In a for loop, what is the difference between range(10), range(0, 10), and range(0, 10, 1)?\n",
    "Ans :- \n",
    "    range(10) :\n",
    "       \n",
    "    When you call range() with one argument, you will get a series of numbers that starts at 0 and includes every whole number up to, but not including, the number you have provided as the stop.\n",
    "    \n",
    "    range(0,10):\n",
    "        \n",
    "        When you call range() with two arguments, you get to decide not only where the series of numbers stops but also where it starts\n",
    "        \n",
    "    range(0,10,1):\n",
    "        \n",
    "        When you call range() with two arguments, you get to decide not only where the series of numbers stops but also where it starts"
   ]
  },
  {
   "cell_type": "code",
   "execution_count": null,
   "id": "6548c727",
   "metadata": {},
   "outputs": [],
   "source": [
    "## Q.12 12. Write a short program that prints the numbers 1 to 10 using a for loop. Then write an equivalent\n",
    "program that prints the numbers 1 to 10 using a while loop.\n",
    "\n",
    "# Using for loop\n",
    "\n",
    "for i in range(1,11):\n",
    "    print(i)\n",
    "    \n",
    "# using while loop\n",
    "\n",
    "a = 1\n",
    "while a<=10:\n",
    "    print(a)\n",
    "    a = a+1\n"
   ]
  },
  {
   "cell_type": "code",
   "execution_count": null,
   "id": "0c2d3c44",
   "metadata": {},
   "outputs": [],
   "source": [
    "## Q.13 If you had a function named bacon() inside a module named spam, how would you call it after\n",
    "importing spam?\n",
    "\n",
    "Ans :-  we can call it by spam.bacon()."
   ]
  }
 ],
 "metadata": {
  "kernelspec": {
   "display_name": "Python 3 (ipykernel)",
   "language": "python",
   "name": "python3"
  },
  "language_info": {
   "codemirror_mode": {
    "name": "ipython",
    "version": 3
   },
   "file_extension": ".py",
   "mimetype": "text/x-python",
   "name": "python",
   "nbconvert_exporter": "python",
   "pygments_lexer": "ipython3",
   "version": "3.9.12"
  }
 },
 "nbformat": 4,
 "nbformat_minor": 5
}
