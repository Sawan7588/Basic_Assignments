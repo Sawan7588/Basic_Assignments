{
 "cells": [
  {
   "cell_type": "code",
   "execution_count": null,
   "id": "b184f000",
   "metadata": {},
   "outputs": [],
   "source": [
    "#Q.1  What exactly is []?\n",
    "Ans:- It is a empty list."
   ]
  },
  {
   "cell_type": "code",
   "execution_count": null,
   "id": "d9507a2c",
   "metadata": {},
   "outputs": [],
   "source": [
    "# Q.2 In a list of values stored in a variable called spam, how would you assign the value 'hello' as the\n",
    "third value? (Assume [2, 4, 6, 8, 10] are in spam.)\n",
    "Ans:- \n",
    "    spam[2] = \"hello\""
   ]
  },
  {
   "cell_type": "code",
   "execution_count": null,
   "id": "e53e389d",
   "metadata": {},
   "outputs": [],
   "source": [
    "# Q. 3 What is the value of spam[int(int('3'*2) / 11)]?\n",
    "\n",
    "Let's pretend the spam includes the list ['a','b','c','d'] for the next three queries.\n",
    "\n",
    "Ans:- int('3'*2) = int('33')/11 = 3\n",
    "    spam[3] = d"
   ]
  },
  {
   "cell_type": "code",
   "execution_count": null,
   "id": "88868d16",
   "metadata": {},
   "outputs": [],
   "source": [
    "# Q.4. What is the value of spam[-1]?\n",
    "Ans spam[-1] = d"
   ]
  },
  {
   "cell_type": "code",
   "execution_count": null,
   "id": "12dbf181",
   "metadata": {},
   "outputs": [],
   "source": [
    "# Q. 5. What is the value of spam[:2]?\n",
    "Ans :-spam[:2] = ['a', 'b']"
   ]
  },
  {
   "cell_type": "code",
   "execution_count": null,
   "id": "1c0354d7",
   "metadata": {},
   "outputs": [],
   "source": [
    "# Let's pretend bacon has the list [3.14, 'cat,' 11, 'cat,' True] for the next three questions.\n",
    "\n",
    "# Q. 6 What is the value of bacon.index('cat')?\n",
    "Ans : - bacon.index('cat') = 1\n",
    "\n"
   ]
  },
  {
   "cell_type": "code",
   "execution_count": null,
   "id": "26e094cf",
   "metadata": {},
   "outputs": [],
   "source": [
    "# Q. 7 How does bacon.append(99) change the look of the list value in bacon?\n",
    "Ans:-\n",
    "    bacon.append(99) = [3.14, 'cat', 11, 'cat', True, 99]"
   ]
  },
  {
   "cell_type": "code",
   "execution_count": null,
   "id": "1da9b9a1",
   "metadata": {},
   "outputs": [],
   "source": [
    "# Q. 8 How does bacon.remove('cat') change the look of the list in bacon?\n",
    "Ans :- \n",
    "    \n",
    "    bacon.remove('cat') = [3.14, 11, 'cat', True, 99]"
   ]
  },
  {
   "cell_type": "code",
   "execution_count": null,
   "id": "399dd022",
   "metadata": {},
   "outputs": [],
   "source": [
    "# Q.9 What are the list concatenation and list replication operators?\n",
    "Ans :- \n",
    "    List concatenation operator: + and replication operator: *\n",
    "\n"
   ]
  },
  {
   "cell_type": "code",
   "execution_count": null,
   "id": "938b6900",
   "metadata": {},
   "outputs": [],
   "source": [
    "# Q.10 What is difference between the list methods append() and insert()?\n",
    "Ans :-\n",
    "    append() adds values at the end of list while insert() adds values anywhere inside list as specified indices"
   ]
  },
  {
   "cell_type": "code",
   "execution_count": null,
   "id": "5f52b0f5",
   "metadata": {},
   "outputs": [],
   "source": [
    "# Q. 11 What are the two methods for removing items from a list?\n",
    "Ans :- \n",
    "    remove() list method and del statement\n",
    "\n"
   ]
  },
  {
   "cell_type": "code",
   "execution_count": null,
   "id": "2eb8867b",
   "metadata": {},
   "outputs": [],
   "source": [
    "# Q,12 Describe how list values and string values are identical.\n",
    "Ans :-\n",
    "    \n",
    "    Both lists and strings can be passed to len(), \n",
    "    have indexes and slices,\n",
    "    be used in for loops, \n",
    "    be concatenated or replicated, and \n",
    "    be used with the in and not in operators"
   ]
  },
  {
   "cell_type": "code",
   "execution_count": null,
   "id": "e5dd1d48",
   "metadata": {},
   "outputs": [],
   "source": [
    "# Q.13 What's the difference between tuples and lists? \n",
    "Ans :-\n",
    "    \n",
    "    Lists are mutable, i.e,values can be added, removed and changed from or in lists. \n",
    "    Tuples are immutable. tuples uses () parenthesis and lists uses square [] brackets."
   ]
  },
  {
   "cell_type": "code",
   "execution_count": null,
   "id": "da97c5b5",
   "metadata": {},
   "outputs": [],
   "source": [
    "#Q.14 How do you type a tuple value that only contains the integer 42?\n",
    "Ans:- \n",
    "    \n",
    "    (42,).trailing comma is mandatory"
   ]
  },
  {
   "cell_type": "code",
   "execution_count": null,
   "id": "0c95dc7c",
   "metadata": {},
   "outputs": [],
   "source": [
    "# Q.15 How do you get a list value's tuple form? How do you get a tuple value's list form?\n",
    "\n",
    "Ans: tuple() and list() functions respectively."
   ]
  },
  {
   "cell_type": "code",
   "execution_count": null,
   "id": "272d069c",
   "metadata": {},
   "outputs": [],
   "source": [
    "# Q. 16 Variables that \"contain\" list values are not necessarily lists themselves. Instead, what do they contain?\n",
    "\n",
    "Ans: They contain references to list values"
   ]
  },
  {
   "cell_type": "code",
   "execution_count": null,
   "id": "f7a91d10",
   "metadata": {},
   "outputs": [],
   "source": [
    "# Q.17 How do you distinguish between copy.copy() and copy.deepcopy()?\n",
    "\n",
    "Ans: The copy.copy() function will do a shallow copy of a list, while the copy.deepcopy() function will do a deep copy of a list. \n",
    "    That is, only copy .deepcopy() will duplicate any lists inside the list"
   ]
  }
 ],
 "metadata": {
  "kernelspec": {
   "display_name": "Python 3 (ipykernel)",
   "language": "python",
   "name": "python3"
  },
  "language_info": {
   "codemirror_mode": {
    "name": "ipython",
    "version": 3
   },
   "file_extension": ".py",
   "mimetype": "text/x-python",
   "name": "python",
   "nbconvert_exporter": "python",
   "pygments_lexer": "ipython3",
   "version": "3.9.12"
  }
 },
 "nbformat": 4,
 "nbformat_minor": 5
}
