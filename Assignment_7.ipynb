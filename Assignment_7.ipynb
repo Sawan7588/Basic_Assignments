{
 "cells": [
  {
   "cell_type": "code",
   "execution_count": null,
   "id": "d034a1f1",
   "metadata": {},
   "outputs": [],
   "source": [
    "Q.1. What is the name of the feature responsible for generating Regex objects?\n",
    "Ans:- \n",
    "    \n",
    "    The re. compile() function returns Regex objects."
   ]
  },
  {
   "cell_type": "code",
   "execution_count": null,
   "id": "97e6c1b1",
   "metadata": {},
   "outputs": [],
   "source": [
    "Q.2 Why do raw strings often appear in Regex objects?\n",
    "\n",
    "Ans:- Raw strings are used so that backslashes do not have to be escaped."
   ]
  },
  {
   "cell_type": "code",
   "execution_count": null,
   "id": "fc50521d",
   "metadata": {},
   "outputs": [],
   "source": [
    "Q.3 What is the return value of the search() method?\n",
    "\n",
    "Ans:- \n",
    "    The re.search() function takes two parameters and returns a match object if there is a match.\n",
    "    If there is more than one match, only the first occurrence of the match will be returned. If no matches are found, the value None is returned."
   ]
  },
  {
   "cell_type": "code",
   "execution_count": null,
   "id": "41912ac3",
   "metadata": {},
   "outputs": [],
   "source": [
    "Q.4 From a Match item, how do you get the actual strings that match the pattern?\n",
    "\n",
    "Ans :- The group() method returns strings of the matched text."
   ]
  },
  {
   "cell_type": "code",
   "execution_count": null,
   "id": "f6c5e61a",
   "metadata": {},
   "outputs": [],
   "source": [
    "Q.5 In the regex created from r'(\\d\\d\\d)-(\\d\\d\\d-\\d\\d\\d\\d)', what does group 0 cover? Group 1? Group 2?\n",
    "\n",
    "Ans :- Group 0 is the entire match, group 1 covers the first set of parentheses, and group 2 covers the second set of parentheses."
   ]
  },
  {
   "cell_type": "code",
   "execution_count": null,
   "id": "55562d21",
   "metadata": {},
   "outputs": [],
   "source": [
    "Q.6 In standard expression syntax, parentheses and intervals have distinct meanings. How can you tell\n",
    "a regex that you want it to fit real parentheses and periods?\n",
    "\n",
    "Ans :- Periods and parentheses can be escaped with a backslash: \\., \\(, and \\)."
   ]
  },
  {
   "cell_type": "code",
   "execution_count": null,
   "id": "5844c681",
   "metadata": {},
   "outputs": [],
   "source": [
    "Q.7 The findall() method returns a list of strings or a list of tuples of strings. What makes it return one or the other?\n",
    "\n",
    "Ans :- If the regex has no groups, a list of strings is returned. If the regex has groups, a list of tuples of strings is returned.\n",
    "    "
   ]
  },
  {
   "cell_type": "code",
   "execution_count": null,
   "id": "79adcd70",
   "metadata": {},
   "outputs": [],
   "source": [
    "Q.8 In standard expressions, what does the | character mean?\n",
    "\n",
    "Ans :- The | character signifies matching \"either, or\" between two groups."
   ]
  },
  {
   "cell_type": "code",
   "execution_count": null,
   "id": "f1b2a214",
   "metadata": {},
   "outputs": [],
   "source": [
    "Q.9 In regular expressions, what does the character stand for?\n",
    "\n",
    "Ans :- The ? character can either mean \"match zero or one of the preceding group\" or be used to signify nongreedy matching."
   ]
  },
  {
   "cell_type": "code",
   "execution_count": null,
   "id": "b3367de0",
   "metadata": {},
   "outputs": [],
   "source": [
    "Q.10 In regular expressions, what is the difference between the + and * characters?\n",
    "\n",
    "Ans :- The + matches one or more. The * matches zero or more."
   ]
  },
  {
   "cell_type": "code",
   "execution_count": null,
   "id": "b9796781",
   "metadata": {},
   "outputs": [],
   "source": [
    "Q.11 What is the difference between {4} and {4,5} in regular expression?\n",
    "\n",
    "Ans :- The {4} matches exactly four instances of the preceding group. The {4,5} matches between four and five instances."
   ]
  },
  {
   "cell_type": "code",
   "execution_count": null,
   "id": "0e7b8ec9",
   "metadata": {},
   "outputs": [],
   "source": [
    "Q.12 What do you mean by the \\d, \\w, and \\s shorthand character classes signify in regular\n",
    "expressions?\n",
    "\n",
    "Ans :- The \\d, \\w, and \\s shorthand character classes match a single digit, word, or space character, respectively."
   ]
  },
  {
   "cell_type": "code",
   "execution_count": null,
   "id": "fc11870c",
   "metadata": {},
   "outputs": [],
   "source": [
    "Q.13 What do means by \\D, \\W, and \\S shorthand character classes signify in regular expressions?\n",
    "\n",
    "Ans :- The \\D, \\W, and \\S shorthand character classes match a single character that is not a digit, word, or space character, respectively."
   ]
  },
  {
   "cell_type": "code",
   "execution_count": null,
   "id": "59eb4e4d",
   "metadata": {},
   "outputs": [],
   "source": [
    "Q.14 What is the difference between these two: . and .?\n",
    "\n",
    "Ans :- The . performs a greedy match, and the .? performs a nongreedy match."
   ]
  },
  {
   "cell_type": "code",
   "execution_count": null,
   "id": "d7237a8e",
   "metadata": {},
   "outputs": [],
   "source": [
    "Q.15 What is the syntax for matching both numbers and lowercase letters with a character class?\n",
    "\n",
    "Ans :- Either [0-9a-z] or [a-z0-9]"
   ]
  },
  {
   "cell_type": "code",
   "execution_count": null,
   "id": "5307e408",
   "metadata": {},
   "outputs": [],
   "source": [
    "Q.16 What is the procedure for making a normal expression in regax case insensitive?\n",
    "\n",
    "Ans :- Passing re.I or re.IGNORECASE as the second argument to re.compile() will make the matching case insensitive."
   ]
  },
  {
   "cell_type": "code",
   "execution_count": null,
   "id": "c0933855",
   "metadata": {},
   "outputs": [],
   "source": [
    "Q.17 What does the . character normally match? What does it match if re.DOTALL is passed as the second argument to re.compile()?\n",
    "\n",
    "Ans :- The . character normally matches any character except the newline character. If re.DOTALL is passed as the second argument to re.compile(), then the dot will also match newline characters."
   ]
  },
  {
   "cell_type": "code",
   "execution_count": null,
   "id": "2263989c",
   "metadata": {},
   "outputs": [],
   "source": [
    "Q.18 If numRegex = re.compile(r'\\d+'), what will numRegex.sub('X', '11 drummers, 10 pipers, five rings, 4 hens') return?\n",
    "\n",
    "Ans :- 'X drummers, X pipers, five rings, X hens'"
   ]
  },
  {
   "cell_type": "code",
   "execution_count": null,
   "id": "a60cb1df",
   "metadata": {},
   "outputs": [],
   "source": [
    "Q.19 What does passing re.VERBOSE as the second argument to re.compile() allow you to do?\n",
    "\n",
    "Ans :- The re.VERBOSE argument allows you to add whitespace and comments to the string passed to re.compile()."
   ]
  },
  {
   "cell_type": "code",
   "execution_count": null,
   "id": "162aed43",
   "metadata": {},
   "outputs": [],
   "source": [
    "Q.20 How would you write a regex that matches a number with commas for every three digits? It must match the following:\n",
    "\n",
    "'42'\n",
    "\n",
    "'1,234'\n",
    "\n",
    "'6,368,745'\n",
    "\n",
    "but not the following:\n",
    "\n",
    "'12,34,567' (which has only two digits between the commas)\n",
    "\n",
    "'1234' (which lacks commas)\n",
    "\n",
    "Ans :- re.compile(r'^\\d{1,3}(,\\d{3})*$') will create this regex, but other regex strings can produce a similar regular expression."
   ]
  },
  {
   "cell_type": "code",
   "execution_count": null,
   "id": "98ff0b7d",
   "metadata": {},
   "outputs": [],
   "source": [
    "Q.21. How would you write a regex that matches the full name of someone whose last name is\n",
    "Watanabe? You can assume that the first name that comes before it will always be one word that\n",
    "begins with a capital letter. The regex must match the following:\n",
    "'Haruto Watanabe'\n",
    "'Alice Watanabe'\n",
    "'RoboCop Watanabe'\n",
    "but not the following:\n",
    "'haruto Watanabe' (where the first name is not capitalized)\n",
    "'Mr. Watanabe' (where the preceding word has a nonletter character)\n",
    "'Watanabe' (which has no first name)\n",
    "'Haruto watanabe' (where Watanabe is not capitalized)\n",
    "\n",
    "Ans :-\n",
    "    re.compile(r'[A-Z][a-z]*\\sWatanab')"
   ]
  },
  {
   "cell_type": "code",
   "execution_count": null,
   "id": "b513f4ec",
   "metadata": {},
   "outputs": [],
   "source": [
    "Q.22 How would you write a regex that matches a sentence where the first word is either Alice, Bob, or Carol; the second word is either eats, pets, or throws; the third word is apples, cats, or baseballs; and the sentence ends with a period? This regex should be case-insensitive. It must match the following:\n",
    "\n",
    "'Alice eats apples.'\n",
    "\n",
    "'Bob pets cats.'\n",
    "\n",
    "'Carol throws baseballs.'\n",
    "\n",
    "'Alice throws Apples.'\n",
    "\n",
    "'BOB EATS CATS.'\n",
    "\n",
    "but not the following:\n",
    "\n",
    "'Robocop eats apples.'\n",
    "\n",
    "'ALICE THROWS FOOTBALLS.'\n",
    "\n",
    "'Carol eats 7 cats.'\n",
    "\n",
    "Ans :- \n",
    "    \n",
    "    re.compile(r'(Alice|Bob|Carol)\\s(eats|pets|throws)\\s(apples|cats|baseballs)\\.', re.IGNORECASE)"
   ]
  }
 ],
 "metadata": {
  "kernelspec": {
   "display_name": "Python 3 (ipykernel)",
   "language": "python",
   "name": "python3"
  },
  "language_info": {
   "codemirror_mode": {
    "name": "ipython",
    "version": 3
   },
   "file_extension": ".py",
   "mimetype": "text/x-python",
   "name": "python",
   "nbconvert_exporter": "python",
   "pygments_lexer": "ipython3",
   "version": "3.9.12"
  }
 },
 "nbformat": 4,
 "nbformat_minor": 5
}
