{
 "cells": [
  {
   "cell_type": "code",
   "execution_count": null,
   "id": "645d5fe0",
   "metadata": {},
   "outputs": [],
   "source": [
    "# Q.1 What does an empty dictionary look like??\n",
    "Ans :-\n",
    "    dict = {}"
   ]
  },
  {
   "cell_type": "code",
   "execution_count": null,
   "id": "b8d36ab8",
   "metadata": {},
   "outputs": [],
   "source": [
    "# Q. 2 What is the value of a dictionary value with the key 'foo' and the value 42?\n",
    "Ans:-\n",
    "    value is 42"
   ]
  },
  {
   "cell_type": "code",
   "execution_count": null,
   "id": "f4acd388",
   "metadata": {},
   "outputs": [],
   "source": [
    "# Q. 3 What is the most significant distinction between a dictionary and a list?\n",
    "Ans:-\n",
    "    The items stored in a dictionary are unordered, while the items in a list are ordered."
   ]
  },
  {
   "cell_type": "code",
   "execution_count": null,
   "id": "7c7ccf3c",
   "metadata": {},
   "outputs": [],
   "source": [
    "# Q. 4 What happens if you try to access spam['foo'] if spam is {'bar':100}?\n",
    "Ans :-\n",
    "    It will get KeyError error"
   ]
  },
  {
   "cell_type": "code",
   "execution_count": 5,
   "id": "53d0daf6",
   "metadata": {},
   "outputs": [],
   "source": [
    "spam = {'bar': 100}"
   ]
  },
  {
   "cell_type": "code",
   "execution_count": 7,
   "id": "e74f348f",
   "metadata": {},
   "outputs": [
    {
     "ename": "KeyError",
     "evalue": "'foo'",
     "output_type": "error",
     "traceback": [
      "\u001b[1;31m---------------------------------------------------------------------------\u001b[0m",
      "\u001b[1;31mKeyError\u001b[0m                                  Traceback (most recent call last)",
      "Input \u001b[1;32mIn [7]\u001b[0m, in \u001b[0;36m<cell line: 1>\u001b[1;34m()\u001b[0m\n\u001b[1;32m----> 1\u001b[0m \u001b[43mspam\u001b[49m\u001b[43m[\u001b[49m\u001b[38;5;124;43m'\u001b[39;49m\u001b[38;5;124;43mfoo\u001b[39;49m\u001b[38;5;124;43m'\u001b[39;49m\u001b[43m]\u001b[49m\n",
      "\u001b[1;31mKeyError\u001b[0m: 'foo'"
     ]
    }
   ],
   "source": [
    "spam['foo']"
   ]
  },
  {
   "cell_type": "code",
   "execution_count": null,
   "id": "b45ecd67",
   "metadata": {},
   "outputs": [],
   "source": [
    "# Q.5 If a dictionary is stored in spam, what is the difference between the expressions 'cat' in spam and\n",
    "'cat' in spam.keys()?\n",
    "Ans:-\n",
    "    There is no difference. The in operator checks whether a value exists as a key in the dictionary."
   ]
  },
  {
   "cell_type": "code",
   "execution_count": null,
   "id": "611068fb",
   "metadata": {},
   "outputs": [],
   "source": [
    "# Q. 6 If a dictionary is stored in spam, what is the difference between the expressions 'cat' in spam and 'cat' in spam.values()?\n",
    "Ans :- \n",
    "    cat' in spam checks whether there is a 'cat' key in the dictionary, while 'cat' in spam.values() checks whether there is a value 'cat' for one of the keys in spam."
   ]
  },
  {
   "cell_type": "code",
   "execution_count": null,
   "id": "7cd388ff",
   "metadata": {},
   "outputs": [],
   "source": [
    "# Q. 7 What is a shortcut for the following code?\n",
    "\n",
    "if 'color' not in spam:\n",
    "spam['color'] = 'black'\n",
    "\n",
    "Ans :- spam.setdefault('color', 'black')"
   ]
  },
  {
   "cell_type": "code",
   "execution_count": null,
   "id": "80c5a1aa",
   "metadata": {},
   "outputs": [],
   "source": [
    "# Q. 8 What module and function can be used to \"pretty print\" dictionary values?\n",
    "Ans :-\n",
    "    pprint.pprint()"
   ]
  },
  {
   "cell_type": "code",
   "execution_count": null,
   "id": "91863860",
   "metadata": {},
   "outputs": [],
   "source": []
  }
 ],
 "metadata": {
  "kernelspec": {
   "display_name": "Python 3 (ipykernel)",
   "language": "python",
   "name": "python3"
  },
  "language_info": {
   "codemirror_mode": {
    "name": "ipython",
    "version": 3
   },
   "file_extension": ".py",
   "mimetype": "text/x-python",
   "name": "python",
   "nbconvert_exporter": "python",
   "pygments_lexer": "ipython3",
   "version": "3.9.12"
  }
 },
 "nbformat": 4,
 "nbformat_minor": 5
}
