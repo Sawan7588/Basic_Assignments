{
 "cells": [
  {
   "cell_type": "code",
   "execution_count": null,
   "id": "7169fcdb",
   "metadata": {},
   "outputs": [],
   "source": [
    "# Q.1 What are escape characters, and how do you use them?\n",
    "Ans :- \n",
    "    Escape characters represent characters in string values that would otherwise be difficult or impossible to type into code"
   ]
  },
  {
   "cell_type": "code",
   "execution_count": null,
   "id": "6c5043c7",
   "metadata": {},
   "outputs": [],
   "source": [
    "# Q.2 What do the escape characters n and t stand for?\n",
    "Ans :- \"t\" is a tab, \"\\n\" is a newline"
   ]
  },
  {
   "cell_type": "code",
   "execution_count": null,
   "id": "eefddb2c",
   "metadata": {},
   "outputs": [],
   "source": [
    "# Q.3 What is the way to include backslash characters in a string?\n",
    "Ans :- \n",
    "    \n",
    "   The \\\\ escape character will represent a backslash character."
   ]
  },
  {
   "cell_type": "code",
   "execution_count": null,
   "id": "5a93fc8c",
   "metadata": {},
   "outputs": [],
   "source": [
    "# Q.4 The string value \"Howl's Moving Castle\" is a valid string. \n",
    "Why isn't it a problem that the single quote character in the word Howl's isn't escaped?\n",
    "Ans:- \n",
    "    \n",
    "    The single quote in Howl's is fine because we already used double quotes to mark the beginning and end of the string."
   ]
  },
  {
   "cell_type": "code",
   "execution_count": null,
   "id": "0457e248",
   "metadata": {},
   "outputs": [],
   "source": [
    "# Q.5 How do you write a string of newlines if you don&#39;t want to use the n character?\n",
    "Ans :- \n",
    "    Multiline strings allow us to use newlines in strings without the \\n escape character.\n",
    "    "
   ]
  },
  {
   "cell_type": "code",
   "execution_count": null,
   "id": "5543d5f5",
   "metadata": {},
   "outputs": [],
   "source": [
    "# Q.6 What are the values of the given expressions?\n",
    "\n",
    "'Hello world!'[1]\n",
    "\n",
    "'Hello world!'[0:5]\n",
    "\n",
    "'Hello world!'[:5]\n",
    "\n",
    "'Hello world!'[3:]\n",
    "\n",
    "Ans :-\n",
    "    \n",
    "    'e'\n",
    "\n",
    "'Hello'\n",
    "\n",
    "'Hello'\n",
    "\n",
    "'lo world!"
   ]
  },
  {
   "cell_type": "code",
   "execution_count": null,
   "id": "276fc558",
   "metadata": {},
   "outputs": [],
   "source": [
    "# Q.7 What are the values of the following expressions?\n",
    "\n",
    "'Hello'.upper()\n",
    "\n",
    "'Hello'.upper().isupper()\n",
    "\n",
    "'Hello'.upper().lower()\n",
    "\n",
    "Ans :- \n",
    "    \n",
    "   \n",
    "'HELLO'\n",
    "\n",
    "True\n",
    "\n",
    "'hello'"
   ]
  },
  {
   "cell_type": "code",
   "execution_count": null,
   "id": "3e64d374",
   "metadata": {},
   "outputs": [],
   "source": [
    "# Q.8 What are the values of the following expressions?\n",
    "\n",
    "'Remember, remember, the fifth of July.'.split()\n",
    "\n",
    "Ans: - ['Remember,', 'remember,', 'the', 'fifth', 'of', 'July.']\n",
    "    \n",
    "    -'.join('There can be only one.'.split())\n",
    "    \n",
    "    \n",
    "'There-can-be-only-one.'\n",
    "    "
   ]
  },
  {
   "cell_type": "code",
   "execution_count": null,
   "id": "380d460d",
   "metadata": {},
   "outputs": [],
   "source": [
    "# Q.9  What are the methods for right-justifying, left-justifying, and centering a string?\n",
    "\n",
    "Ans :- The rjust(), ljust(), and center() string methods, respectively"
   ]
  },
  {
   "cell_type": "code",
   "execution_count": null,
   "id": "10573698",
   "metadata": {},
   "outputs": [],
   "source": [
    "# Q.10 What is the best way to remove whitespace characters from the start or end?\n",
    "Ans:-\n",
    "    \n",
    "    The lstrip() and rstrip() methods remove whitespace from the left and right ends of a string, respectively."
   ]
  }
 ],
 "metadata": {
  "kernelspec": {
   "display_name": "Python 3 (ipykernel)",
   "language": "python",
   "name": "python3"
  },
  "language_info": {
   "codemirror_mode": {
    "name": "ipython",
    "version": 3
   },
   "file_extension": ".py",
   "mimetype": "text/x-python",
   "name": "python",
   "nbconvert_exporter": "python",
   "pygments_lexer": "ipython3",
   "version": "3.9.12"
  }
 },
 "nbformat": 4,
 "nbformat_minor": 5
}
